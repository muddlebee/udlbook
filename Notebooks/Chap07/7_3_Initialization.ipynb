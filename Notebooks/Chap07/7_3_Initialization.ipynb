{
  "cells": [
    {
      "cell_type": "markdown",
      "metadata": {
        "colab_type": "text",
        "id": "view-in-github"
      },
      "source": [
        "<a href=\"https://colab.research.google.com/github/udlbook/udlbook/blob/main/Notebooks/Chap07/7_3_Initialization.ipynb\" target=\"_parent\"><img src=\"https://colab.research.google.com/assets/colab-badge.svg\" alt=\"Open In Colab\"/></a>"
      ]
    },
    {
      "cell_type": "markdown",
      "metadata": {
        "id": "L6chybAVFJW2"
      },
      "source": [
        "# **Notebook 7.3: Initialization**\n",
        "\n",
        "This notebook explores weight initialization in deep neural networks as described in section 7.5 of the book.\n",
        "\n",
        "Work through the cells below, running each cell in turn. In various places you will see the words \"TO DO\". Follow the instructions at these places and make predictions about what is going to happen or write code to complete the functions.\n",
        "\n",
        "Contact me at udlbookmail@gmail.com if you find any mistakes or have any suggestions."
      ]
    },
    {
      "cell_type": "code",
      "execution_count": 1,
      "metadata": {
        "id": "LdIDglk1FFcG"
      },
      "outputs": [],
      "source": [
        "import numpy as np\n",
        "import matplotlib.pyplot as plt"
      ]
    },
    {
      "cell_type": "markdown",
      "metadata": {
        "id": "nnUoI0m6GyjC"
      },
      "source": [
        "First let's define a neural network.  We'll just choose the weights and biases randomly for now"
      ]
    },
    {
      "cell_type": "code",
      "execution_count": 2,
      "metadata": {
        "id": "WVM4Tc_jGI0Q"
      },
      "outputs": [],
      "source": [
        "def init_params(K, D, sigma_sq_omega):\n",
        "  # Set seed so we always get the same random numbers\n",
        "  np.random.seed(0)\n",
        "\n",
        "  # Input layer\n",
        "  D_i = 1\n",
        "  # Output layer\n",
        "  D_o = 1\n",
        "\n",
        "  # Make empty lists\n",
        "  all_weights = [None] * (K+1)\n",
        "  all_biases = [None] * (K+1)\n",
        "\n",
        "  # Create input and output layers\n",
        "  all_weights[0] = np.random.normal(size=(D, D_i))*np.sqrt(sigma_sq_omega)\n",
        "  all_weights[-1] = np.random.normal(size=(D_o, D)) * np.sqrt(sigma_sq_omega)\n",
        "  all_biases[0] = np.zeros((D,1))\n",
        "  all_biases[-1]= np.zeros((D_o,1))\n",
        "\n",
        "  # Create intermediate layers\n",
        "  for layer in range(1,K):\n",
        "    all_weights[layer] = np.random.normal(size=(D,D))*np.sqrt(sigma_sq_omega)\n",
        "    all_biases[layer] = np.zeros((D,1))\n",
        "\n",
        "    # print shape and values of weights and biases\n",
        "    print(f\"Layer {layer}:\")\n",
        "    print(f\"Shape of weights: {all_weights[layer].shape}\")\n",
        "    print(f\"Values of weights: {all_weights[layer]}\")\n",
        "    print(f\"Shape of biases: {all_biases[layer].shape}\")\n",
        "    print(f\"Values of biases: {all_biases[layer]}\")\n",
        "\n",
        "  return all_weights, all_biases"
      ]
    },
    {
      "cell_type": "code",
      "execution_count": 3,
      "metadata": {
        "id": "jZh-7bPXIDq4"
      },
      "outputs": [],
      "source": [
        "# Define the Rectified Linear Unit (ReLU) function\n",
        "def ReLU(preactivation):\n",
        "  activation = preactivation.clip(0.0)\n",
        "  return activation"
      ]
    },
    {
      "cell_type": "code",
      "execution_count": 4,
      "metadata": {
        "id": "LgquJUJvJPaN"
      },
      "outputs": [],
      "source": [
        "def compute_network_output(net_input, all_weights, all_biases):\n",
        "\n",
        "  # Retrieve number of layers\n",
        "  K = len(all_weights)-1\n",
        "\n",
        "  # We'll store the pre-activations at each layer in a list \"all_f\"\n",
        "  # and the activations in a second list \"all_h\".\n",
        "  all_f = [None] * (K+1)\n",
        "  all_h = [None] * (K+1)\n",
        "\n",
        "  #For convenience, we'll set\n",
        "  # all_h[0] to be the input, and all_f[K] will be the output\n",
        "  all_h[0] = net_input\n",
        "\n",
        "  # Run through the layers, calculating all_f[0...K-1] and all_h[1...K]\n",
        "  for layer in range(K):\n",
        "      # Update preactivations and activations at this layer according to eqn 7.5\n",
        "      all_f[layer] = all_biases[layer] + np.matmul(all_weights[layer], all_h[layer])\n",
        "      all_h[layer+1] = ReLU(all_f[layer])\n",
        "\n",
        "  # Compute the output from the last hidden layer\n",
        "  all_f[K] = all_biases[K] + np.matmul(all_weights[K], all_h[K])\n",
        "\n",
        "  # Retrieve the output\n",
        "  net_output = all_f[K]\n",
        "\n",
        "  return net_output, all_f, all_h"
      ]
    },
    {
      "cell_type": "markdown",
      "metadata": {
        "id": "bIUrcXnOqChl"
      },
      "source": [
        "Now let's investigate how the size of the outputs vary as we change the initialization variance:\n"
      ]
    },
    {
      "cell_type": "code",
      "execution_count": 5,
      "metadata": {
        "id": "A55z3rKBqO7M"
      },
      "outputs": [
        {
          "name": "stdout",
          "output_type": "stream",
          "text": [
            "Layer 1:\n",
            "Shape of weights: (8, 8)\n",
            "Values of weights: [[ 1.49407907 -0.20515826  0.3130677  -0.85409574 -2.55298982  0.6536186\n",
            "   0.8644362  -0.74216502]\n",
            " [ 2.26975462 -1.45436567  0.04575852 -0.18718385  1.53277921  1.46935877\n",
            "   0.15494743  0.37816252]\n",
            " [-0.88778575 -1.98079647 -0.34791215  0.15634897  1.23029068  1.20237985\n",
            "  -0.38732682 -0.30230275]\n",
            " [-1.04855297 -1.42001794 -1.70627019  1.9507754  -0.50965218 -0.4380743\n",
            "  -1.25279536  0.77749036]\n",
            " [-1.61389785 -0.21274028 -0.89546656  0.3869025  -0.51080514 -1.18063218\n",
            "  -0.02818223  0.42833187]\n",
            " [ 0.06651722  0.3024719  -0.63432209 -0.36274117 -0.67246045 -0.35955316\n",
            "  -0.81314628 -1.7262826 ]\n",
            " [ 0.17742614 -0.40178094 -1.63019835  0.46278226 -0.90729836  0.0519454\n",
            "   0.72909056  0.12898291]\n",
            " [ 1.13940068 -1.23482582  0.40234164 -0.68481009 -0.87079715 -0.57884966\n",
            "  -0.31155253  0.05616534]]\n",
            "Shape of biases: (8, 1)\n",
            "Values of biases: [[0.]\n",
            " [0.]\n",
            " [0.]\n",
            " [0.]\n",
            " [0.]\n",
            " [0.]\n",
            " [0.]\n",
            " [0.]]\n",
            "Layer 2:\n",
            "Shape of weights: (8, 8)\n",
            "Values of weights: [[-1.16514984  0.90082649  0.46566244 -1.53624369  1.48825219  1.89588918\n",
            "   1.17877957 -0.17992484]\n",
            " [-1.07075262  1.05445173 -0.40317695  1.22244507  0.20827498  0.97663904\n",
            "   0.3563664   0.70657317]\n",
            " [ 0.01050002  1.78587049  0.12691209  0.40198936  1.8831507  -1.34775906\n",
            "  -1.270485    0.96939671]\n",
            " [-1.17312341  1.94362119 -0.41361898 -0.74745481  1.92294203  1.48051479\n",
            "   1.86755896  0.90604466]\n",
            " [-0.86122569  1.91006495 -0.26800337  0.8024564   0.94725197 -0.15501009\n",
            "   0.61407937  0.92220667]\n",
            " [ 0.37642553 -1.09940079  0.29823817  1.3263859  -0.69456786 -0.14963454\n",
            "  -0.43515355  1.84926373]\n",
            " [ 0.67229476  0.40746184 -0.76991607  0.53924919 -0.67433266  0.03183056\n",
            "  -0.63584608  0.67643329]\n",
            " [ 0.57659082 -0.20829876  0.39600671 -1.09306151 -1.49125759  0.4393917\n",
            "   0.1666735   0.63503144]]\n",
            "Shape of biases: (8, 1)\n",
            "Values of biases: [[0.]\n",
            " [0.]\n",
            " [0.]\n",
            " [0.]\n",
            " [0.]\n",
            " [0.]\n",
            " [0.]\n",
            " [0.]]\n",
            "Layer 3:\n",
            "Shape of weights: (8, 8)\n",
            "Values of weights: [[ 2.38314477  0.94447949 -0.91282223  1.11701629 -1.31590741 -0.4615846\n",
            "  -0.06824161  1.71334272]\n",
            " [-0.74475482 -0.82643854 -0.09845252 -0.66347829  1.12663592 -1.07993151\n",
            "  -1.14746865 -0.43782004]\n",
            " [-0.49803245  1.92953205  0.94942081  0.08755124 -1.22543552  0.84436298\n",
            "  -1.00021535 -1.5447711 ]\n",
            " [ 1.18802979  0.31694261  0.92085882  0.31872765  0.85683061 -0.65102559\n",
            "  -1.03424284  0.68159452]\n",
            " [-0.80340966 -0.68954978 -0.4555325   0.01747916 -0.35399391 -1.37495129\n",
            "  -0.6436184  -2.22340315]\n",
            " [ 0.62523145 -1.60205766 -1.10438334  0.05216508 -0.739563    1.5430146\n",
            "  -1.29285691  0.26705087]\n",
            " [-0.03928282 -1.1680935   0.52327666 -0.17154633  0.77179055  0.82350415\n",
            "   2.16323595  1.33652795]\n",
            " [-0.36918184 -0.23937918  1.0996596   0.65526373  0.64013153 -1.61695604\n",
            "  -0.02432612 -0.73803091]]\n",
            "Shape of biases: (8, 1)\n",
            "Values of biases: [[0.]\n",
            " [0.]\n",
            " [0.]\n",
            " [0.]\n",
            " [0.]\n",
            " [0.]\n",
            " [0.]\n",
            " [0.]]\n",
            "Layer 4:\n",
            "Shape of weights: (8, 8)\n",
            "Values of weights: [[ 0.2799246  -0.09815039  0.91017891  0.31721822  0.78632796 -0.4664191\n",
            "  -0.94444626 -0.41004969]\n",
            " [-0.01702041  0.37915174  2.25930895 -0.04225715 -0.955945   -0.34598178\n",
            "  -0.46359597  0.48148147]\n",
            " [-1.54079701  0.06326199  0.15650654  0.23218104 -0.59731607 -0.23792173\n",
            "  -1.42406091 -0.49331988]\n",
            " [-0.54286148  0.41605005 -1.15618243  0.7811981   1.49448454 -2.06998503\n",
            "   0.42625873  0.67690804]\n",
            " [-0.63743703 -0.39727181 -0.13288058 -0.29779088 -0.30901297 -1.67600381\n",
            "   1.15233156  1.07961859]\n",
            " [-0.81336426 -1.46642433  0.52106488 -0.57578797  0.14195316 -0.31932842\n",
            "   0.69153875  0.69474914]\n",
            " [-0.72559738 -1.38336396 -1.5829384   0.61037938 -1.18885926 -0.50681635\n",
            "  -0.59631404 -0.0525673 ]\n",
            " [-1.93627981  0.1887786   0.52389102  0.08842209 -0.31088617  0.09740017\n",
            "   0.39904635 -2.77259276]]\n",
            "Shape of biases: (8, 1)\n",
            "Values of biases: [[0.]\n",
            " [0.]\n",
            " [0.]\n",
            " [0.]\n",
            " [0.]\n",
            " [0.]\n",
            " [0.]\n",
            " [0.]]\n",
            "Layer 1, std of hidden units = 0.811\n",
            "Layer 2, std of hidden units = 1.472\n",
            "Layer 3, std of hidden units = 4.547\n",
            "Layer 4, std of hidden units = 8.896\n",
            "Layer 5, std of hidden units = 10.106\n"
          ]
        }
      ],
      "source": [
        "# Number of layers\n",
        "K = 5\n",
        "# Number of neurons per layer\n",
        "D = 8\n",
        "# Input layer\n",
        "D_i = 1\n",
        "# Output layer\n",
        "D_o = 1\n",
        "# Set variance of initial weights to 1\n",
        "sigma_sq_omega = 1.0\n",
        "# Initialize parameters\n",
        "all_weights, all_biases = init_params(K,D,sigma_sq_omega)\n",
        "\n",
        "n_data = 1000\n",
        "data_in = np.random.normal(size=(1,n_data))\n",
        "net_output, all_f, all_h = compute_network_output(data_in, all_weights, all_biases)\n",
        "\n",
        "for layer in range(1,K+1):\n",
        "  print(\"Layer %d, std of hidden units = %3.3f\"%(layer, np.std(all_h[layer])))"
      ]
    },
    {
      "cell_type": "code",
      "execution_count": 6,
      "metadata": {
        "id": "VL_SO4tar3DC"
      },
      "outputs": [],
      "source": [
        "# You can see that the values of the hidden units are increasing on average (the variance is across all hidden units at the layer\n",
        "# and the 1000 training examples\n",
        "\n",
        "# TO DO\n",
        "# Change this to 50 layers with 80 hidden units per layer\n",
        "\n",
        "# TO DO\n",
        "# Now experiment with sigma_sq_omega to try to stop the variance of the forward computation exploding"
      ]
    },
    {
      "cell_type": "markdown",
      "metadata": {
        "id": "SxVTKp3IcoBF"
      },
      "source": [
        "Now let's define a loss function.  We'll just use the least squares loss function. We'll also write a function to compute dloss_doutput\n"
      ]
    },
    {
      "cell_type": "code",
      "execution_count": 7,
      "metadata": {
        "id": "6XqWSYWJdhQR"
      },
      "outputs": [],
      "source": [
        "def least_squares_loss(net_output, y):\n",
        "  return np.sum((net_output-y) * (net_output-y))\n",
        "\n",
        "def d_loss_d_output(net_output, y):\n",
        "    return 2*(net_output -y);"
      ]
    },
    {
      "cell_type": "markdown",
      "metadata": {
        "id": "98WmyqFYWA-0"
      },
      "source": [
        "Here's the code for the backward pass"
      ]
    },
    {
      "cell_type": "code",
      "execution_count": 8,
      "metadata": {
        "id": "LJng7WpRPLMz"
      },
      "outputs": [],
      "source": [
        "# We'll need the indicator function\n",
        "def indicator_function(x):\n",
        "  x_in = np.array(x)\n",
        "  x_in[x_in>=0] = 1\n",
        "  x_in[x_in<0] = 0\n",
        "  return x_in\n",
        "\n",
        "# Main backward pass routine\n",
        "def backward_pass(all_weights, all_biases, all_f, all_h, y):\n",
        "  # Retrieve number of layers\n",
        "  K = len(all_weights) - 1\n",
        "\n",
        "  # We'll store the derivatives dl_dweights and dl_dbiases in lists as well\n",
        "  all_dl_dweights = [None] * (K+1)\n",
        "  all_dl_dbiases = [None] * (K+1)\n",
        "  # And we'll store the derivatives of the loss with respect to the activation and preactivations in lists\n",
        "  all_dl_df = [None] * (K+1)\n",
        "  all_dl_dh = [None] * (K+1)\n",
        "  # Again for convenience we'll stick with the convention that all_h[0] is the net input and all_f[k] in the net output\n",
        "\n",
        "  # Compute derivatives of net output with respect to loss\n",
        "  all_dl_df[K] = np.array(d_loss_d_output(all_f[K],y))\n",
        "\n",
        "  # Now work backwards through the network\n",
        "  for layer in range(K,-1,-1):\n",
        "    # Calculate the derivatives of biases at layer from all_dl_df[K]. (eq 7.13, line 1)\n",
        "    all_dl_dbiases[layer] = np.array(all_dl_df[layer])\n",
        "    # Calculate the derivatives of weight at layer from all_dl_df[K] and all_h[K] (eq 7.13, line 2)\n",
        "    all_dl_dweights[layer] = np.matmul(all_dl_df[layer], all_h[layer].transpose())\n",
        "\n",
        "    # Calculate the derivatives of activations from weight and derivatives of next preactivations (eq 7.13, line 3 second part)\n",
        "    all_dl_dh[layer] = np.matmul(all_weights[layer].transpose(), all_dl_df[layer])\n",
        "    # Calculate the derivatives of the pre-activation f with respect to activation h (eq 7.13, line 3, first part)\n",
        "    if layer > 0:\n",
        "      all_dl_df[layer-1] = indicator_function(all_f[layer-1]) * all_dl_dh[layer]\n",
        "\n",
        "  return all_dl_dweights, all_dl_dbiases, all_dl_dh, all_dl_df"
      ]
    },
    {
      "cell_type": "markdown",
      "metadata": {
        "id": "phFnbthqwhFi"
      },
      "source": [
        "Now let's look at what happens to the magnitude of the gradients on the way back."
      ]
    },
    {
      "cell_type": "code",
      "execution_count": 9,
      "metadata": {
        "id": "9A9MHc4sQvbp"
      },
      "outputs": [
        {
          "name": "stdout",
          "output_type": "stream",
          "text": [
            "Layer 1:\n",
            "Shape of weights: (8, 8)\n",
            "Values of weights: [[ 1.49407907 -0.20515826  0.3130677  -0.85409574 -2.55298982  0.6536186\n",
            "   0.8644362  -0.74216502]\n",
            " [ 2.26975462 -1.45436567  0.04575852 -0.18718385  1.53277921  1.46935877\n",
            "   0.15494743  0.37816252]\n",
            " [-0.88778575 -1.98079647 -0.34791215  0.15634897  1.23029068  1.20237985\n",
            "  -0.38732682 -0.30230275]\n",
            " [-1.04855297 -1.42001794 -1.70627019  1.9507754  -0.50965218 -0.4380743\n",
            "  -1.25279536  0.77749036]\n",
            " [-1.61389785 -0.21274028 -0.89546656  0.3869025  -0.51080514 -1.18063218\n",
            "  -0.02818223  0.42833187]\n",
            " [ 0.06651722  0.3024719  -0.63432209 -0.36274117 -0.67246045 -0.35955316\n",
            "  -0.81314628 -1.7262826 ]\n",
            " [ 0.17742614 -0.40178094 -1.63019835  0.46278226 -0.90729836  0.0519454\n",
            "   0.72909056  0.12898291]\n",
            " [ 1.13940068 -1.23482582  0.40234164 -0.68481009 -0.87079715 -0.57884966\n",
            "  -0.31155253  0.05616534]]\n",
            "Shape of biases: (8, 1)\n",
            "Values of biases: [[0.]\n",
            " [0.]\n",
            " [0.]\n",
            " [0.]\n",
            " [0.]\n",
            " [0.]\n",
            " [0.]\n",
            " [0.]]\n",
            "Layer 2:\n",
            "Shape of weights: (8, 8)\n",
            "Values of weights: [[-1.16514984  0.90082649  0.46566244 -1.53624369  1.48825219  1.89588918\n",
            "   1.17877957 -0.17992484]\n",
            " [-1.07075262  1.05445173 -0.40317695  1.22244507  0.20827498  0.97663904\n",
            "   0.3563664   0.70657317]\n",
            " [ 0.01050002  1.78587049  0.12691209  0.40198936  1.8831507  -1.34775906\n",
            "  -1.270485    0.96939671]\n",
            " [-1.17312341  1.94362119 -0.41361898 -0.74745481  1.92294203  1.48051479\n",
            "   1.86755896  0.90604466]\n",
            " [-0.86122569  1.91006495 -0.26800337  0.8024564   0.94725197 -0.15501009\n",
            "   0.61407937  0.92220667]\n",
            " [ 0.37642553 -1.09940079  0.29823817  1.3263859  -0.69456786 -0.14963454\n",
            "  -0.43515355  1.84926373]\n",
            " [ 0.67229476  0.40746184 -0.76991607  0.53924919 -0.67433266  0.03183056\n",
            "  -0.63584608  0.67643329]\n",
            " [ 0.57659082 -0.20829876  0.39600671 -1.09306151 -1.49125759  0.4393917\n",
            "   0.1666735   0.63503144]]\n",
            "Shape of biases: (8, 1)\n",
            "Values of biases: [[0.]\n",
            " [0.]\n",
            " [0.]\n",
            " [0.]\n",
            " [0.]\n",
            " [0.]\n",
            " [0.]\n",
            " [0.]]\n",
            "Layer 3:\n",
            "Shape of weights: (8, 8)\n",
            "Values of weights: [[ 2.38314477  0.94447949 -0.91282223  1.11701629 -1.31590741 -0.4615846\n",
            "  -0.06824161  1.71334272]\n",
            " [-0.74475482 -0.82643854 -0.09845252 -0.66347829  1.12663592 -1.07993151\n",
            "  -1.14746865 -0.43782004]\n",
            " [-0.49803245  1.92953205  0.94942081  0.08755124 -1.22543552  0.84436298\n",
            "  -1.00021535 -1.5447711 ]\n",
            " [ 1.18802979  0.31694261  0.92085882  0.31872765  0.85683061 -0.65102559\n",
            "  -1.03424284  0.68159452]\n",
            " [-0.80340966 -0.68954978 -0.4555325   0.01747916 -0.35399391 -1.37495129\n",
            "  -0.6436184  -2.22340315]\n",
            " [ 0.62523145 -1.60205766 -1.10438334  0.05216508 -0.739563    1.5430146\n",
            "  -1.29285691  0.26705087]\n",
            " [-0.03928282 -1.1680935   0.52327666 -0.17154633  0.77179055  0.82350415\n",
            "   2.16323595  1.33652795]\n",
            " [-0.36918184 -0.23937918  1.0996596   0.65526373  0.64013153 -1.61695604\n",
            "  -0.02432612 -0.73803091]]\n",
            "Shape of biases: (8, 1)\n",
            "Values of biases: [[0.]\n",
            " [0.]\n",
            " [0.]\n",
            " [0.]\n",
            " [0.]\n",
            " [0.]\n",
            " [0.]\n",
            " [0.]]\n",
            "Layer 4:\n",
            "Shape of weights: (8, 8)\n",
            "Values of weights: [[ 0.2799246  -0.09815039  0.91017891  0.31721822  0.78632796 -0.4664191\n",
            "  -0.94444626 -0.41004969]\n",
            " [-0.01702041  0.37915174  2.25930895 -0.04225715 -0.955945   -0.34598178\n",
            "  -0.46359597  0.48148147]\n",
            " [-1.54079701  0.06326199  0.15650654  0.23218104 -0.59731607 -0.23792173\n",
            "  -1.42406091 -0.49331988]\n",
            " [-0.54286148  0.41605005 -1.15618243  0.7811981   1.49448454 -2.06998503\n",
            "   0.42625873  0.67690804]\n",
            " [-0.63743703 -0.39727181 -0.13288058 -0.29779088 -0.30901297 -1.67600381\n",
            "   1.15233156  1.07961859]\n",
            " [-0.81336426 -1.46642433  0.52106488 -0.57578797  0.14195316 -0.31932842\n",
            "   0.69153875  0.69474914]\n",
            " [-0.72559738 -1.38336396 -1.5829384   0.61037938 -1.18885926 -0.50681635\n",
            "  -0.59631404 -0.0525673 ]\n",
            " [-1.93627981  0.1887786   0.52389102  0.08842209 -0.31088617  0.09740017\n",
            "   0.39904635 -2.77259276]]\n",
            "Shape of biases: (8, 1)\n",
            "Values of biases: [[0.]\n",
            " [0.]\n",
            " [0.]\n",
            " [0.]\n",
            " [0.]\n",
            " [0.]\n",
            " [0.]\n",
            " [0.]]\n",
            "Layer 1, std of dl_dh = 446.654\n",
            "Layer 2, std of dl_dh = 340.657\n",
            "Layer 3, std of dl_dh = 109.132\n",
            "Layer 4, std of dl_dh = 56.472\n"
          ]
        }
      ],
      "source": [
        "# Number of layers\n",
        "K = 5\n",
        "# Number of neurons per layer\n",
        "D = 8\n",
        "# Input layer\n",
        "D_i = 1\n",
        "# Output layer\n",
        "D_o = 1\n",
        "# Set variance of initial weights to 1\n",
        "sigma_sq_omega = 1.0\n",
        "# Initialize parameters\n",
        "all_weights, all_biases = init_params(K,D,sigma_sq_omega)\n",
        "\n",
        "# For simplicity we'll just consider the gradients of the weights and biases between the first and last hidden layer\n",
        "n_data = 100\n",
        "aggregate_dl_df = [None] * (K+1)\n",
        "for layer in range(1,K):\n",
        "  # These 3D arrays will store the gradients for every data point\n",
        "  aggregate_dl_df[layer] = np.zeros((D,n_data))\n",
        "\n",
        "\n",
        "# We'll have to compute the derivatives of the parameters for each data point separately\n",
        "for c_data in range(n_data):\n",
        "  data_in = np.random.normal(size=(1,1))\n",
        "  y = np.zeros((1,1))\n",
        "  net_output, all_f, all_h = compute_network_output(data_in, all_weights, all_biases)\n",
        "  all_dl_dweights, all_dl_dbiases, all_dl_dh, all_dl_df = backward_pass(all_weights, all_biases, all_f, all_h, y)\n",
        "  for layer in range(1,K):\n",
        "    aggregate_dl_df[layer][:,c_data] = np.squeeze(all_dl_df[layer])\n",
        "\n",
        "for layer in range(1,K):\n",
        "  print(\"Layer %d, std of dl_dh = %3.3f\"%(layer, np.std(aggregate_dl_df[layer].ravel())))\n"
      ]
    },
    {
      "cell_type": "code",
      "execution_count": 10,
      "metadata": {
        "id": "gtokc0VX0839"
      },
      "outputs": [],
      "source": [
        "# You can see that the gradients of the hidden units are increasing on average (the standard deviation is across all hidden units at the layer\n",
        "# and the 100 training examples\n",
        "\n",
        "# TO DO\n",
        "# Change this to 50 layers with 80 hidden units per layer\n",
        "\n",
        "# TO DO\n",
        "# Now experiment with sigma_sq_omega to try to stop the variance of the gradients exploding\n"
      ]
    }
  ],
  "metadata": {
    "colab": {
      "include_colab_link": true,
      "provenance": []
    },
    "kernelspec": {
      "display_name": "Python 3",
      "name": "python3"
    },
    "language_info": {
      "codemirror_mode": {
        "name": "ipython",
        "version": 3
      },
      "file_extension": ".py",
      "mimetype": "text/x-python",
      "name": "python",
      "nbconvert_exporter": "python",
      "pygments_lexer": "ipython3",
      "version": "3.12.4"
    }
  },
  "nbformat": 4,
  "nbformat_minor": 0
}
