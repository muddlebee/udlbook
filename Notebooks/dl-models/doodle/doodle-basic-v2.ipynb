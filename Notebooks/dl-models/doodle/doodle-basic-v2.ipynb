{
 "cells": [
  {
   "cell_type": "code",
   "execution_count": 1,
   "metadata": {},
   "outputs": [],
   "source": [
    "import torch\n",
    "import torch.nn as nn\n",
    "import torch.optim as optim\n",
    "from torch.utils.data import Dataset, DataLoader\n",
    "import numpy as np\n",
    "import os\n",
    "from tqdm import tqdm\n",
    "from torch.utils.data import random_split\n",
    "\n",
    "# 1. Simple Neural Network\n",
    "class SimpleNN(nn.Module):\n",
    "    def __init__(self, input_size, hidden_size, num_classes):\n",
    "        super(SimpleNN, self).__init__()\n",
    "        self.fc1 = nn.Linear(input_size, hidden_size)\n",
    "        self.relu = nn.ReLU()\n",
    "        self.fc2 = nn.Linear(hidden_size, num_classes)\n",
    "    \n",
    "    def forward(self, x):\n",
    "        x = x.view(x.size(0), -1)  # Flatten the input\n",
    "        x = self.fc1(x)\n",
    "        x = self.relu(x)\n",
    "        x = self.fc2(x)\n",
    "        return x\n",
    "\n",
    "# 2. Dataset Handling\n",
    "class QuickDrawDataset(Dataset):\n",
    "    def __init__(self, root_dir, categories, max_samples_per_class=10000):\n",
    "        self.root_dir = root_dir\n",
    "        self.categories = categories\n",
    "        self.max_samples_per_class = max_samples_per_class\n",
    "        self.data = []\n",
    "        self.labels = []\n",
    "        \n",
    "        for i, category in enumerate(categories):\n",
    "            file_name = 'full_numpy_bitmap_' + category + '.npy'\n",
    "            file_path = os.path.join(root_dir, file_name)\n",
    "            category_data = np.load(file_path)\n",
    "            samples = min(len(category_data), max_samples_per_class)\n",
    "            self.data.append(category_data[:samples])\n",
    "            self.labels.extend([i] * samples)\n",
    "        \n",
    "        self.data = np.vstack(self.data).reshape(-1, 28, 28).astype(np.float32) / 255.0\n",
    "        self.labels = np.array(self.labels, dtype=np.int64)  # Change to int64\n",
    "\n",
    "    def __len__(self):\n",
    "        return len(self.labels)\n",
    "\n",
    "    def __getitem__(self, idx):\n",
    "        image = torch.from_numpy(self.data[idx])\n",
    "        label = torch.tensor(self.labels[idx], dtype=torch.long)  # Ensure label is a LongTensor\n",
    "        return image, label\n",
    "\n",
    "# Define categories (you can add more)\n",
    "categories = ['apple', 'banana', 'car', 'dog', 'house']\n",
    "\n",
    "# Create dataset and dataloader\n",
    "full_dataset = QuickDrawDataset('./', categories)\n",
    "# Define the split ratio (e.g., 80% train, 20% validation)\n",
    "train_size = int(0.8 * len(full_dataset))\n",
    "val_size = len(full_dataset) - train_size\n",
    "\n",
    "# Split the dataset\n",
    "train_dataset, val_dataset = random_split(full_dataset, [train_size, val_size])\n",
    "\n",
    "# Create data loaders\n",
    "train_loader = DataLoader(train_dataset, batch_size=64, shuffle=True)\n",
    "val_loader = DataLoader(val_dataset, batch_size=64, shuffle=False)\n"
   ]
  },
  {
   "cell_type": "code",
   "execution_count": 2,
   "metadata": {},
   "outputs": [],
   "source": [
    "\n",
    "# Initialize model, loss function, and optimizer\n",
    "input_size = 28 * 28  # 28x28 = 784 pixel images\n",
    "hidden_size = 256\n",
    "num_classes = len(categories)\n",
    "\n",
    "model = SimpleNN(input_size, hidden_size, num_classes)\n",
    "criterion = nn.CrossEntropyLoss()\n",
    "optimizer = optim.Adam(model.parameters(), lr=0.001)"
   ]
  },
  {
   "cell_type": "code",
   "execution_count": 5,
   "metadata": {},
   "outputs": [
    {
     "name": "stderr",
     "output_type": "stream",
     "text": [
      "Epoch 1/10:   0%|          | 0/625 [00:00<?, ?it/s]"
     ]
    },
    {
     "name": "stderr",
     "output_type": "stream",
     "text": [
      "Epoch 1/10: 100%|██████████| 625/625 [00:04<00:00, 133.75it/s]\n",
      "Epoch 1/10 - Validation: 100%|██████████| 157/157 [00:00<00:00, 383.25it/s]\n"
     ]
    },
    {
     "name": "stdout",
     "output_type": "stream",
     "text": [
      "Epoch 1/10\n",
      "Train Loss: 0.0232, Train Acc: 0.8139\n",
      "Val Loss: 0.5547, Val Acc: 0.8184\n"
     ]
    },
    {
     "name": "stderr",
     "output_type": "stream",
     "text": [
      "Epoch 2/10: 100%|██████████| 625/625 [00:05<00:00, 110.63it/s]\n",
      "Epoch 2/10 - Validation: 100%|██████████| 157/157 [00:00<00:00, 315.74it/s]\n"
     ]
    },
    {
     "name": "stdout",
     "output_type": "stream",
     "text": [
      "Epoch 2/10\n",
      "Train Loss: 0.0220, Train Acc: 0.8222\n",
      "Val Loss: 0.5547, Val Acc: 0.8184\n"
     ]
    },
    {
     "name": "stderr",
     "output_type": "stream",
     "text": [
      "Epoch 3/10: 100%|██████████| 625/625 [00:04<00:00, 146.43it/s]\n",
      "Epoch 3/10 - Validation: 100%|██████████| 157/157 [00:00<00:00, 317.87it/s]\n"
     ]
    },
    {
     "name": "stdout",
     "output_type": "stream",
     "text": [
      "Epoch 3/10\n",
      "Train Loss: 0.0237, Train Acc: 0.8222\n",
      "Val Loss: 0.5547, Val Acc: 0.8184\n"
     ]
    },
    {
     "name": "stderr",
     "output_type": "stream",
     "text": [
      "Epoch 4/10: 100%|██████████| 625/625 [00:04<00:00, 138.60it/s]\n",
      "Epoch 4/10 - Validation: 100%|██████████| 157/157 [00:00<00:00, 508.46it/s]\n"
     ]
    },
    {
     "name": "stdout",
     "output_type": "stream",
     "text": [
      "Epoch 4/10\n",
      "Train Loss: 0.0214, Train Acc: 0.8222\n",
      "Val Loss: 0.5547, Val Acc: 0.8184\n"
     ]
    },
    {
     "name": "stderr",
     "output_type": "stream",
     "text": [
      "Epoch 5/10: 100%|██████████| 625/625 [00:03<00:00, 190.42it/s]\n",
      "Epoch 5/10 - Validation: 100%|██████████| 157/157 [00:00<00:00, 633.14it/s]\n"
     ]
    },
    {
     "name": "stdout",
     "output_type": "stream",
     "text": [
      "Epoch 5/10\n",
      "Train Loss: 0.0226, Train Acc: 0.8222\n",
      "Val Loss: 0.5547, Val Acc: 0.8184\n"
     ]
    },
    {
     "name": "stderr",
     "output_type": "stream",
     "text": [
      "Epoch 6/10: 100%|██████████| 625/625 [00:03<00:00, 178.41it/s]\n",
      "Epoch 6/10 - Validation: 100%|██████████| 157/157 [00:00<00:00, 490.19it/s]\n"
     ]
    },
    {
     "name": "stdout",
     "output_type": "stream",
     "text": [
      "Epoch 6/10\n",
      "Train Loss: 0.0215, Train Acc: 0.8222\n",
      "Val Loss: 0.5547, Val Acc: 0.8184\n"
     ]
    },
    {
     "name": "stderr",
     "output_type": "stream",
     "text": [
      "Epoch 7/10: 100%|██████████| 625/625 [00:07<00:00, 89.22it/s] \n",
      "Epoch 7/10 - Validation: 100%|██████████| 157/157 [00:00<00:00, 338.23it/s]\n"
     ]
    },
    {
     "name": "stdout",
     "output_type": "stream",
     "text": [
      "Epoch 7/10\n",
      "Train Loss: 0.0208, Train Acc: 0.8222\n",
      "Val Loss: 0.5547, Val Acc: 0.8184\n"
     ]
    },
    {
     "name": "stderr",
     "output_type": "stream",
     "text": [
      "Epoch 8/10: 100%|██████████| 625/625 [00:04<00:00, 136.85it/s]\n",
      "Epoch 8/10 - Validation: 100%|██████████| 157/157 [00:00<00:00, 430.13it/s]\n"
     ]
    },
    {
     "name": "stdout",
     "output_type": "stream",
     "text": [
      "Epoch 8/10\n",
      "Train Loss: 0.0231, Train Acc: 0.8222\n",
      "Val Loss: 0.5547, Val Acc: 0.8184\n"
     ]
    },
    {
     "name": "stderr",
     "output_type": "stream",
     "text": [
      "Epoch 9/10: 100%|██████████| 625/625 [00:05<00:00, 116.03it/s]\n",
      "Epoch 9/10 - Validation: 100%|██████████| 157/157 [00:00<00:00, 406.32it/s]\n"
     ]
    },
    {
     "name": "stdout",
     "output_type": "stream",
     "text": [
      "Epoch 9/10\n",
      "Train Loss: 0.0204, Train Acc: 0.8222\n",
      "Val Loss: 0.5547, Val Acc: 0.8184\n"
     ]
    },
    {
     "name": "stderr",
     "output_type": "stream",
     "text": [
      "Epoch 10/10: 100%|██████████| 625/625 [00:03<00:00, 168.79it/s]\n",
      "Epoch 10/10 - Validation: 100%|██████████| 157/157 [00:00<00:00, 522.79it/s]\n"
     ]
    },
    {
     "name": "stdout",
     "output_type": "stream",
     "text": [
      "Epoch 10/10\n",
      "Train Loss: 0.0221, Train Acc: 0.8222\n",
      "Val Loss: 0.5547, Val Acc: 0.8184\n"
     ]
    },
    {
     "data": {
      "image/png": "[encoded data removed]",
      "text/plain": [
       "<Figure size 1200x500 with 2 Axes>"
      ]
     },
     "metadata": {},
     "output_type": "display_data"
    },
    {
     "data": {
      "image/png": "[encoded data removed]",
      "text/plain": [
       "<Figure size 1500x300 with 10 Axes>"
      ]
     },
     "metadata": {},
     "output_type": "display_data"
    },
    {
     "name": "stdout",
     "output_type": "stream",
     "text": [
      "Training complete. You can view the TensorBoard logs by running:\n",
      "tensorboard --logdir=runs\n"
     ]
    }
   ],
   "source": [
    "from torch.utils.tensorboard import SummaryWriter\n",
    "from matplotlib import pyplot as plt\n",
    "from torch.optim.lr_scheduler import StepLR\n",
    "\n",
    "writer = SummaryWriter('runs/quickdraw_experiment')\n",
    "\n",
    "def train_model(model, train_loader, val_loader, criterion, optimizer, scheduler, num_epochs=10):\n",
    "    device = torch.device(\"cuda\" if torch.cuda.is_available() else \"cpu\")\n",
    "    model.to(device)\n",
    "    \n",
    "    # Lists to store metrics for plotting\n",
    "    train_losses = []\n",
    "    train_accuracies = []\n",
    "    \n",
    "    for epoch in range(num_epochs):\n",
    "        model.train()\n",
    "        running_loss = 0.0\n",
    "        correct = 0\n",
    "        total = 0\n",
    "        \n",
    "        for i, (images, labels) in enumerate(tqdm(train_loader, desc=f\"Epoch {epoch+1}/{num_epochs}\")):\n",
    "            images, labels = images.to(device), labels.to(device)\n",
    "            \n",
    "            optimizer.zero_grad()\n",
    "            outputs = model(images)\n",
    "            loss = criterion(outputs, labels)\n",
    "            loss.backward()\n",
    "            optimizer.step()\n",
    "            scheduler.step()\n",
    "            \n",
    "            running_loss += loss.item()\n",
    "            _, predicted = outputs.max(1)\n",
    "            total += labels.size(0)\n",
    "            correct += predicted.eq(labels).sum().item()\n",
    "            \n",
    "            # Log to TensorBoard every 100 batches\n",
    "            if i % 100 == 99:\n",
    "                writer.add_scalar('training loss', running_loss / 100, epoch * len(train_loader) + i)\n",
    "                writer.add_scalar('accuracy', 100. * correct / total, epoch * len(train_loader) + i)\n",
    "                running_loss = 0.0\n",
    "        \n",
    "        \n",
    "        train_accuracy = correct / total\n",
    "        \n",
    "        # Validation phase\n",
    "        model.eval()\n",
    "        val_loss = 0.0\n",
    "        val_correct = 0\n",
    "        val_total = 0\n",
    "        \n",
    "        with torch.no_grad():\n",
    "            for images, labels in tqdm(val_loader, desc=f\"Epoch {epoch+1}/{num_epochs} - Validation\"):\n",
    "                images, labels = images.to(device), labels.to(device)\n",
    "                outputs = model(images)\n",
    "                loss = criterion(outputs, labels)\n",
    "                \n",
    "                val_loss += loss.item()\n",
    "                _, predicted = outputs.max(1)\n",
    "                val_total += labels.size(0)\n",
    "                val_correct += predicted.eq(labels).sum().item()\n",
    "        \n",
    "        val_accuracy = val_correct / val_total\n",
    "        \n",
    "        print(f\"Epoch {epoch+1}/{num_epochs}\")\n",
    "        print(f\"Train Loss: {running_loss/len(train_loader):.4f}, Train Acc: {train_accuracy:.4f}\")\n",
    "        print(f\"Val Loss: {val_loss/len(val_loader):.4f}, Val Acc: {val_accuracy:.4f}\")\n",
    "        \n",
    "        # Log to TensorBoard\n",
    "        writer.add_scalars('Loss', {'train': running_loss/len(train_loader), \n",
    "                                    'val': val_loss/len(val_loader)}, epoch)\n",
    "        writer.add_scalars('Accuracy', {'train': train_accuracy, \n",
    "                                        'val': val_accuracy}, epoch)\n",
    "        \n",
    "        # Log model parameters\n",
    "        for name, param in model.named_parameters():\n",
    "            writer.add_histogram(name, param, epoch)\n",
    "            writer.add_histogram(f'{name}.grad', param.grad, epoch)\n",
    "    \n",
    "    writer.close()\n",
    "    \n",
    "    return train_losses, train_accuracies\n",
    "\n",
    "# Train the model\n",
    "model = SimpleNN(input_size=28*28, hidden_size=256, num_classes=len(categories))\n",
    "criterion = nn.CrossEntropyLoss()\n",
    "optimizer = optim.Adam(model.parameters(), lr=0.001)\n",
    "# Initialize the scheduler\n",
    "scheduler = StepLR(optimizer, step_size=30, gamma=0.1)\n",
    "train_losses, train_accuracies = train_model(model, train_loader, val_loader, criterion, optimizer, scheduler)\n",
    "\n",
    "# Plotting\n",
    "plt.figure(figsize=(12, 5))\n",
    "plt.subplot(1, 2, 1)\n",
    "plt.plot(train_losses)\n",
    "plt.title('Training Loss')\n",
    "plt.xlabel('Epoch')\n",
    "plt.ylabel('Loss')\n",
    "\n",
    "plt.subplot(1, 2, 2)\n",
    "plt.plot(train_accuracies)\n",
    "plt.title('Training Accuracy')\n",
    "plt.xlabel('Epoch')\n",
    "plt.ylabel('Accuracy')\n",
    "\n",
    "plt.tight_layout()\n",
    "plt.savefig('training_metrics.png')\n",
    "plt.show()\n",
    "\n",
    "# Log the plot to TensorBoard\n",
    "writer = SummaryWriter('runs/quickdraw_experiment')\n",
    "writer.add_figure('training_metrics', plt.gcf())\n",
    "writer.close()\n",
    "\n",
    "# Visualize some predictions\n",
    "def visualize_predictions(model, dataloader, num_images=10):\n",
    "    device = torch.device(\"cuda\" if torch.cuda.is_available() else \"cpu\")\n",
    "    model.eval()\n",
    "    images, labels = next(iter(dataloader))\n",
    "    images = images.to(device)[:num_images]\n",
    "    labels = labels[:num_images]\n",
    "    \n",
    "    with torch.no_grad():\n",
    "        outputs = model(images)\n",
    "        _, predicted = torch.max(outputs, 1)\n",
    "    \n",
    "    fig = plt.figure(figsize=(15, 3))\n",
    "    for i in range(num_images):\n",
    "        ax = fig.add_subplot(1, num_images, i+1, xticks=[], yticks=[])\n",
    "        ax.imshow(images[i].cpu().squeeze(), cmap='gray')\n",
    "        ax.set_title(f\"{categories[predicted[i]]}\\n(True: {categories[labels[i]]})\")\n",
    "    \n",
    "    plt.tight_layout()\n",
    "    plt.savefig('predictions.png')\n",
    "    plt.show()\n",
    "    \n",
    "    # Log the predictions to TensorBoard\n",
    "    writer = SummaryWriter('runs/quickdraw_experiment')\n",
    "    writer.add_figure('predictions', plt.gcf())\n",
    "    writer.close()\n",
    "\n",
    "visualize_predictions(model, train_loader)\n",
    "\n",
    "print(\"Training complete. You can view the TensorBoard logs by running:\")\n",
    "print(\"tensorboard --logdir=runs\")"
   ]
  }
 ],
 "metadata": {
  "kernelspec": {
   "display_name": ".venv",
   "language": "python",
   "name": "python3"
  },
  "language_info": {
   "codemirror_mode": {
    "name": "ipython",
    "version": 3
   },
   "file_extension": ".py",
   "mimetype": "text/x-python",
   "name": "python",
   "nbconvert_exporter": "python",
   "pygments_lexer": "ipython3",
   "version": "3.12.4"
  }
 },
 "nbformat": 4,
 "nbformat_minor": 2
}
