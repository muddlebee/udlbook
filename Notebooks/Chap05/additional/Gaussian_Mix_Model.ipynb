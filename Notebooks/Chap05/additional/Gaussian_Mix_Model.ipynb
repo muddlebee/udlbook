{
 "cells": [
  {
   "cell_type": "code",
   "execution_count": 18,
   "metadata": {},
   "outputs": [],
   "source": [
    "import pandas as pd\n",
    "from sklearn.mixture import GaussianMixture\n",
    "\n",
    "# https://www.kaggle.com/datasets/sbonelondhlazi/bookstore-dataset\n",
    "\n"
   ]
  },
  {
   "cell_type": "code",
   "execution_count": 19,
   "metadata": {},
   "outputs": [],
   "source": [
    "df = pd.read_csv('books_scraped.csv')\n",
    "\n",
    "# create a GMM model with 2 components (one for each mode in our distribution)\n",
    "gmm = GaussianMixture(n_components=2)\n",
    "gmm.fit(df[['Quantity']])\n",
    "\n",
    "# predict component for the feature\n",
    "df['component'] = gmm.predict(df[['Quantity']])"
   ]
  },
  {
   "cell_type": "code",
   "execution_count": 22,
   "metadata": {},
   "outputs": [],
   "source": [
    "\n",
    "# load the dataset\n",
    "df = pd.read_csv('penguins_size.csv')\n",
    "\n",
    "# remove null values\n",
    "df = df[~df.isnull().any(axis=1)]\n",
    "df = df.reset_index(drop=True)\n",
    "\n",
    "# select features\n",
    "features = ['culmen_length_mm', 'culmen_depth_mm']\n",
    "\n",
    "# create a model with 3 components \n",
    "gmm = GaussianMixture(n_components=3)\n",
    "gmm.fit(df[features])\n",
    "\n",
    "# predict components and probabilities\n",
    "components = gmm.predict(df[features])\n",
    "probabilities = gmm.predict_proba(df[features])"
   ]
  }
 ],
 "metadata": {
  "kernelspec": {
   "display_name": "Python 3",
   "language": "python",
   "name": "python3"
  },
  "language_info": {
   "codemirror_mode": {
    "name": "ipython",
    "version": 3
   },
   "file_extension": ".py",
   "mimetype": "text/x-python",
   "name": "python",
   "nbconvert_exporter": "python",
   "pygments_lexer": "ipython3",
   "version": "3.12.4"
  }
 },
 "nbformat": 4,
 "nbformat_minor": 2
}
