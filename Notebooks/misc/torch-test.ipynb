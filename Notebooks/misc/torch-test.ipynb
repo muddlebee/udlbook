{
 "cells": [
  {
   "cell_type": "code",
   "execution_count": 1,
   "metadata": {},
   "outputs": [
    {
     "name": "stdout",
     "output_type": "stream",
     "text": [
      "Max values: tensor([2., 3.])\n",
      "Predicted classes: tensor([0, 1])\n"
     ]
    }
   ],
   "source": [
    "import torch\n",
    "\n",
    "# Example outputs from the model (logits)\n",
    "outputs = torch.tensor([[2.0, 1.0, 0.1], [1.0, 3.0, 0.1]])\n",
    "\n",
    "# Get the maximum values and their indices along dimension 1\n",
    "max_values, predicted_classes = torch.max(outputs, dim=1)\n",
    "\n",
    "print(\"Max values:\", max_values)\n",
    "print(\"Predicted classes:\", predicted_classes)"
   ]
  },
  {
   "cell_type": "code",
   "execution_count": 5,
   "metadata": {},
   "outputs": [
    {
     "name": "stdout",
     "output_type": "stream",
     "text": [
      "Max values: tensor([2.0000, 3.0000, 0.1000])\n",
      "Predicted classes: tensor([0, 1, 0])\n"
     ]
    }
   ],
   "source": [
    "max_values, predicted_classes = torch.max(outputs, dim=0)\n",
    "print(\"Max values:\", max_values)\n",
    "print(\"Predicted classes:\", predicted_classes)\n"
   ]
  },
  {
   "cell_type": "code",
   "execution_count": 6,
   "metadata": {},
   "outputs": [
    {
     "name": "stdout",
     "output_type": "stream",
     "text": [
      "0.29564225673675537\n"
     ]
    }
   ],
   "source": [
    "import torch\n",
    "import torch.nn as nn\n",
    "\n",
    "# Example outputs from the model (logits)\n",
    "outputs = torch.tensor([[2.0, 1.0, 0.1], [1.0, 3.0, 0.1]])\n",
    "\n",
    "# Example true labels\n",
    "labels = torch.tensor([0, 1])\n",
    "\n",
    "# Define the loss function (Cross-Entropy Loss)\n",
    "criterion = nn.CrossEntropyLoss()\n",
    "\n",
    "# Calculate the loss\n",
    "loss = criterion(outputs, labels)\n",
    "\n",
    "print(loss.item())"
   ]
  }
 ],
 "metadata": {
  "kernelspec": {
   "display_name": ".venv",
   "language": "python",
   "name": "python3"
  },
  "language_info": {
   "codemirror_mode": {
    "name": "ipython",
    "version": 3
   },
   "file_extension": ".py",
   "mimetype": "text/x-python",
   "name": "python",
   "nbconvert_exporter": "python",
   "pygments_lexer": "ipython3",
   "version": "3.12.4"
  }
 },
 "nbformat": 4,
 "nbformat_minor": 2
}
