{
 "cells": [
  {
   "cell_type": "code",
   "execution_count": 11,
   "metadata": {},
   "outputs": [],
   "source": [
    "import numpy as np\n",
    "\n",
    "def convolve2d(image, kernel):\n",
    "    # Get shapes of image and kernel\n",
    "    i_height, i_width = image.shape\n",
    "    k_height, k_width = kernel.shape\n",
    "    print(\"k_height: \", k_height)   \n",
    "    print(\"k_width: \", k_width)\n",
    "    # Calculate output dimensions\n",
    "    o_height = i_height - k_height + 1\n",
    "    o_width = i_width - k_width + 1\n",
    "    print(\"o_height: \", o_height)\n",
    "    print(\"o_width: \", o_width)\n",
    "    \n",
    "    # Create output array\n",
    "    output = np.zeros((o_height, o_width))\n",
    "    \n",
    "    # Perform convolution\n",
    "    for y in range(o_height):\n",
    "        for x in range(o_width):\n",
    "            output[y, x] = np.sum(image[y:y+k_height, x:x+k_width] * kernel)\n",
    "\n",
    "            # print(\"output[y, x]: \", output[y, x])\n",
    "            # print(\"image[y:y+k_height, x:x+k_width]: \", image[y:y+k_height, x:x+k_width])\n",
    "            # print(\"kernel: \", kernel)\n",
    "    \n",
    "    return output\n",
    "\n"
   ]
  },
  {
   "cell_type": "code",
   "execution_count": 12,
   "metadata": {},
   "outputs": [
    {
     "name": "stdout",
     "output_type": "stream",
     "text": [
      "image: [[0.06390142 0.23142642 0.38603808 0.59167518 0.76593912]\n",
      " [0.45149096 0.5395306  0.04924935 0.54191957 0.21702728]\n",
      " [0.07575175 0.90515236 0.84982739 0.57774819 0.30597216]\n",
      " [0.81863314 0.57267457 0.68129306 0.41637146 0.48143063]\n",
      " [0.00847709 0.52846705 0.65353477 0.56532141 0.52527172]]\n",
      "kernel: [[0.67079771 0.19872358 0.32201367]\n",
      " [0.15976258 0.56247484 0.30203298]\n",
      " [0.65978674 0.31243383 0.32986174]]\n",
      "k_height:  3\n",
      "k_width:  3\n",
      "o_height:  3\n",
      "o_width:  3\n",
      "output[y, x]:  1.2167487920176316\n",
      "image[y:y+k_height, x:x+k_width]:  [[0.06390142 0.23142642 0.38603808]\n",
      " [0.45149096 0.5395306  0.04924935]\n",
      " [0.07575175 0.90515236 0.84982739]]\n",
      "kernel:  [[0.67079771 0.19872358 0.32201367]\n",
      " [0.15976258 0.56247484 0.30203298]\n",
      " [0.65978674 0.31243383 0.32986174]]\n",
      "output[y, x]:  1.7533579508637092\n",
      "image[y:y+k_height, x:x+k_width]:  [[0.23142642 0.38603808 0.59167518]\n",
      " [0.5395306  0.04924935 0.54191957]\n",
      " [0.90515236 0.84982739 0.57774819]]\n",
      "kernel:  [[0.67079771 0.19872358 0.32201367]\n",
      " [0.15976258 0.56247484 0.30203298]\n",
      " [0.65978674 0.31243383 0.32986174]]\n",
      "output[y, x]:  1.843551288345528\n",
      "image[y:y+k_height, x:x+k_width]:  [[0.38603808 0.59167518 0.76593912]\n",
      " [0.04924935 0.54191957 0.21702728]\n",
      " [0.84982739 0.57774819 0.30597216]]\n",
      "kernel:  [[0.67079771 0.19872358 0.32201367]\n",
      " [0.15976258 0.56247484 0.30203298]\n",
      " [0.65978674 0.31243383 0.32986174]]\n",
      "output[y, x]:  2.1476178480507624\n",
      "image[y:y+k_height, x:x+k_width]:  [[0.45149096 0.5395306  0.04924935]\n",
      " [0.07575175 0.90515236 0.84982739]\n",
      " [0.81863314 0.57267457 0.68129306]]\n",
      "kernel:  [[0.67079771 0.19872358 0.32201367]\n",
      " [0.15976258 0.56247484 0.30203298]\n",
      " [0.65978674 0.31243383 0.32986174]]\n",
      "output[y, x]:  2.0713705244726195\n",
      "image[y:y+k_height, x:x+k_width]:  [[0.5395306  0.04924935 0.54191957]\n",
      " [0.90515236 0.84982739 0.57774819]\n",
      " [0.57267457 0.68129306 0.41637146]]\n",
      "kernel:  [[0.67079771 0.19872358 0.32201367]\n",
      " [0.15976258 0.56247484 0.30203298]\n",
      " [0.65978674 0.31243383 0.32986174]]\n",
      "output[y, x]:  1.5021696190951859\n",
      "image[y:y+k_height, x:x+k_width]:  [[0.04924935 0.54191957 0.21702728]\n",
      " [0.84982739 0.57774819 0.30597216]\n",
      " [0.68129306 0.41637146 0.48143063]]\n",
      "kernel:  [[0.67079771 0.19872358 0.32201367]\n",
      " [0.15976258 0.56247484 0.30203298]\n",
      " [0.65978674 0.31243383 0.32986174]]\n",
      "output[y, x]:  1.549300378086994\n",
      "image[y:y+k_height, x:x+k_width]:  [[0.07575175 0.90515236 0.84982739]\n",
      " [0.81863314 0.57267457 0.68129306]\n",
      " [0.00847709 0.52846705 0.65353477]]\n",
      "kernel:  [[0.67079771 0.19872358 0.32201367]\n",
      " [0.15976258 0.56247484 0.30203298]\n",
      " [0.65978674 0.31243383 0.32986174]]\n",
      "output[y, x]:  2.3018975976041456\n",
      "image[y:y+k_height, x:x+k_width]:  [[0.90515236 0.84982739 0.57774819]\n",
      " [0.57267457 0.68129306 0.41637146]\n",
      " [0.52846705 0.65353477 0.56532141]]\n",
      "kernel:  [[0.67079771 0.19872358 0.32201367]\n",
      " [0.15976258 0.56247484 0.30203298]\n",
      " [0.65978674 0.31243383 0.32986174]]\n",
      "output[y, x]:  2.052939361319665\n",
      "image[y:y+k_height, x:x+k_width]:  [[0.84982739 0.57774819 0.30597216]\n",
      " [0.68129306 0.41637146 0.48143063]\n",
      " [0.65353477 0.56532141 0.52527172]]\n",
      "kernel:  [[0.67079771 0.19872358 0.32201367]\n",
      " [0.15976258 0.56247484 0.30203298]\n",
      " [0.65978674 0.31243383 0.32986174]]\n",
      "result: [[1.21674879 1.75335795 1.84355129]\n",
      " [2.14761785 2.07137052 1.50216962]\n",
      " [1.54930038 2.3018976  2.05293936]]\n"
     ]
    }
   ],
   "source": [
    "# Example usage\n",
    "image = np.random.rand(5, 5)\n",
    "print(\"image:\", image)\n",
    "kernel = np.random.rand(3, 3)\n",
    "print(\"kernel:\", kernel)\n",
    "result = convolve2d(image, kernel)\n",
    "print(\"result:\", result)"
   ]
  },
  {
   "cell_type": "code",
   "execution_count": 14,
   "metadata": {},
   "outputs": [
    {
     "name": "stdout",
     "output_type": "stream",
     "text": [
      "[1 2 3]\n",
      "[2 5 8]\n"
     ]
    }
   ],
   "source": [
    "# code\n",
    "\n",
    "matrix = np.array([[1, 2, 3],\n",
    "                   [4, 5, 6],\n",
    "                   [7, 8, 9]])\n",
    "\n",
    "# Slicing rows\n",
    "\n",
    "# Get the first row\n",
    "row_1 = matrix[0, :]  \n",
    "print(row_1)  \n",
    "\n",
    "# Slicing columns\n",
    "\n",
    " # Get the second column\n",
    "col_2 = matrix[:, 1] \n",
    "print(col_2)  \n"
   ]
  },
  {
   "cell_type": "code",
   "execution_count": 21,
   "metadata": {},
   "outputs": [
    {
     "name": "stdout",
     "output_type": "stream",
     "text": [
      "[[2 3]\n",
      " [5 6]\n",
      " [8 9]]\n"
     ]
    }
   ],
   "source": [
    "print(matrix[:, 1:3])  # Get the 2x2 matrix in the bottom right corner"
   ]
  },
  {
   "cell_type": "code",
   "execution_count": 22,
   "metadata": {},
   "outputs": [
    {
     "name": "stdout",
     "output_type": "stream",
     "text": [
      "[[4 5 6]\n",
      " [7 8 9]]\n"
     ]
    }
   ],
   "source": [
    "print(matrix[1:3, :])  # Get the 2x2 matrix in the middle"
   ]
  },
  {
   "cell_type": "code",
   "execution_count": 23,
   "metadata": {},
   "outputs": [
    {
     "name": "stdout",
     "output_type": "stream",
     "text": [
      "[[5 6]\n",
      " [8 9]]\n"
     ]
    }
   ],
   "source": [
    "print(matrix[1:3, 1:3])  # Get the 2x2 matrix in the middle"
   ]
  }
 ],
 "metadata": {
  "kernelspec": {
   "display_name": "Python 3",
   "language": "python",
   "name": "python3"
  },
  "language_info": {
   "codemirror_mode": {
    "name": "ipython",
    "version": 3
   },
   "file_extension": ".py",
   "mimetype": "text/x-python",
   "name": "python",
   "nbconvert_exporter": "python",
   "pygments_lexer": "ipython3",
   "version": "3.12.4"
  }
 },
 "nbformat": 4,
 "nbformat_minor": 2
}
