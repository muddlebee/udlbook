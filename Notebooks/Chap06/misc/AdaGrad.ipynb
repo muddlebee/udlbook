{
 "cells": [
  {
   "cell_type": "code",
   "execution_count": 7,
   "metadata": {},
   "outputs": [],
   "source": [
    "import numpy as np\n",
    "\n",
    "class AdaGrad:\n",
    "    def __init__(self, params, learning_rate=0.01, eps=1e-8):\n",
    "        self.params = params\n",
    "        self.lr = learning_rate\n",
    "        self.eps = eps\n",
    "        self.G = {param: np.zeros_like(value) for param, value in params.items()}\n",
    "\n",
    "    def step(self, grads):\n",
    "        for param, grad in grads.items():\n",
    "            self.G[param] += np.square(grad)\n",
    "            adjusted_lr = self.lr / (np.sqrt(self.G[param]) + self.eps)\n",
    "            self.params[param] -= adjusted_lr * grad\n",
    "\n",
    "# Example usage\n"
   ]
  },
  {
   "cell_type": "code",
   "execution_count": 8,
   "metadata": {},
   "outputs": [
    {
     "name": "stdout",
     "output_type": "stream",
     "text": [
      "{'w1': array([0., 0.]), 'w2': array([0., 0.])}\n"
     ]
    }
   ],
   "source": [
    "dict = {}\n",
    "params = {'w1': np.array([0.1, 0.2]), 'w2': np.array([0.3, 0.4])}\n",
    "dict = {param : np.zeros_like(value) for param, value in params.items()}\n",
    "print(dict)"
   ]
  },
  {
   "cell_type": "code",
   "execution_count": 9,
   "metadata": {},
   "outputs": [
    {
     "name": "stdout",
     "output_type": "stream",
     "text": [
      "Step 1\n",
      "Before update: w1 = [0.1 0.2], w2 = [0.3 0.4]\n",
      "After update: w1 = [0.09 0.19], w2 = [0.29 0.39]\n",
      "Accumulated G: G1 = [1. 1.], G2 = [0.01 0.01]\n",
      "\n",
      "Step 2\n",
      "Before update: w1 = [0.09 0.19], w2 = [0.29 0.39]\n",
      "After update: w1 = [0.08105573 0.18105573], w2 = [0.28292893 0.38292893]\n",
      "Accumulated G: G1 = [5. 5.], G2 = [0.02 0.02]\n",
      "\n",
      "Step 3\n",
      "Before update: w1 = [0.08105573 0.18105573], w2 = [0.28292893 0.38292893]\n",
      "After update: w1 = [0.07303789 0.17303789], w2 = [0.27715543 0.37715543]\n",
      "Accumulated G: G1 = [14. 14.], G2 = [0.03 0.03]\n",
      "\n",
      "Step 4\n",
      "Before update: w1 = [0.07303789 0.17303789], w2 = [0.27715543 0.37715543]\n",
      "After update: w1 = [0.06573492 0.16573492], w2 = [0.27215543 0.37215543]\n",
      "Accumulated G: G1 = [30. 30.], G2 = [0.04 0.04]\n",
      "\n",
      "Step 5\n",
      "Before update: w1 = [0.06573492 0.16573492], w2 = [0.27215543 0.37215543]\n",
      "After update: w1 = [0.05899292 0.15899292], w2 = [0.2676833 0.3676833]\n",
      "Accumulated G: G1 = [55. 55.], G2 = [0.05 0.05]\n",
      "\n"
     ]
    }
   ],
   "source": [
    "params = {'w1': np.array([0.1, 0.2]), 'w2': np.array([0.3, 0.4])}\n",
    "optimizer = AdaGrad(params)\n",
    "\n",
    "# Simulate 5 update steps\n",
    "for t in range(5):\n",
    "    # Simulate different gradients for w1 and w2\n",
    "    grads = {\n",
    "        'w1': np.array([1.0, 1.0]) * (t + 1),  # Increasing gradients\n",
    "        'w2': np.array([0.1, 0.1])             # Constant small gradients\n",
    "    }\n",
    "    \n",
    "    print(f\"Step {t+1}\")\n",
    "    print(f\"Before update: w1 = {params['w1']}, w2 = {params['w2']}\")\n",
    "    \n",
    "    optimizer.step(grads)\n",
    "    \n",
    "    print(f\"After update: w1 = {params['w1']}, w2 = {params['w2']}\")\n",
    "    print(f\"Accumulated G: G1 = {optimizer.G['w1']}, G2 = {optimizer.G['w2']}\")\n",
    "    print()"
   ]
  },
  {
   "cell_type": "code",
   "execution_count": 10,
   "metadata": {},
   "outputs": [
    {
     "data": {
      "text/plain": [
       "{'w1': array([0.05899292, 0.15899292]), 'w2': array([0.2676833, 0.3676833])}"
      ]
     },
     "execution_count": 10,
     "metadata": {},
     "output_type": "execute_result"
    }
   ],
   "source": [
    "params"
   ]
  }
 ],
 "metadata": {
  "kernelspec": {
   "display_name": "Python 3",
   "language": "python",
   "name": "python3"
  },
  "language_info": {
   "codemirror_mode": {
    "name": "ipython",
    "version": 3
   },
   "file_extension": ".py",
   "mimetype": "text/x-python",
   "name": "python",
   "nbconvert_exporter": "python",
   "pygments_lexer": "ipython3",
   "version": "3.12.4"
  }
 },
 "nbformat": 4,
 "nbformat_minor": 2
}
